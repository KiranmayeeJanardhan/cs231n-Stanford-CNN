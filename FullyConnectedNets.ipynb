{
  "nbformat": 4,
  "nbformat_minor": 0,
  "metadata": {
    "colab": {
      "name": "FullyConnectedNets.ipynb",
      "provenance": [],
      "collapsed_sections": [],
      "include_colab_link": true
    },
    "kernelspec": {
      "name": "python3",
      "display_name": "Python 3"
    }
  },
  "cells": [
    {
      "cell_type": "markdown",
      "metadata": {
        "id": "view-in-github",
        "colab_type": "text"
      },
      "source": [
        "<a href=\"https://colab.research.google.com/github/KiranmayeeJanardhan/cs231n-Stanford-CNN/blob/master/FullyConnectedNets.ipynb\" target=\"_parent\"><img src=\"https://colab.research.google.com/assets/colab-badge.svg\" alt=\"Open In Colab\"/></a>"
      ]
    },
    {
      "cell_type": "code",
      "metadata": {
        "id": "45qlOCRZBZkb",
        "colab_type": "code",
        "outputId": "7f870ed3-4be8-4828-ea3f-9304e5fab053",
        "colab": {
          "base_uri": "https://localhost:8080/",
          "height": 156
        }
      },
      "source": [
        "# this mounts your Google Drive to the Colab VM.\n",
        "from google.colab import drive\n",
        "drive.mount('/content/drive', force_remount=True)\n",
        "\n",
        "# enter the foldername in your Drive where you have saved the unzipped\n",
        "# assignment folder, e.g. 'cs231n/assignments/assignment3/'\n",
        "FOLDERNAME = 'cs231n/assignments/assignment2/'\n",
        "assert FOLDERNAME is not None, \"[!] Enter the foldername.\"\n",
        "\n",
        "# now that we've mounted your Drive, this ensures that\n",
        "# the Python interpreter of the Colab VM can load\n",
        "# python files from within it.\n",
        "import sys\n",
        "sys.path.append('/content/drive/My Drive/{}'.format(FOLDERNAME))\n",
        "\n",
        "# this downloads the CIFAR-10 dataset to your Drive\n",
        "# if it doesn't already exist.\n",
        "%cd drive/My\\ Drive/$FOLDERNAME/cs231n/datasets/\n",
        "!bash get_datasets.sh\n",
        "%cd /content"
      ],
      "execution_count": 1,
      "outputs": [
        {
          "output_type": "stream",
          "text": [
            "Go to this URL in a browser: https://accounts.google.com/o/oauth2/auth?client_id=947318989803-6bn6qk8qdgf4n4g3pfee6491hc0brc4i.apps.googleusercontent.com&redirect_uri=urn%3aietf%3awg%3aoauth%3a2.0%3aoob&response_type=code&scope=email%20https%3a%2f%2fwww.googleapis.com%2fauth%2fdocs.test%20https%3a%2f%2fwww.googleapis.com%2fauth%2fdrive%20https%3a%2f%2fwww.googleapis.com%2fauth%2fdrive.photos.readonly%20https%3a%2f%2fwww.googleapis.com%2fauth%2fpeopleapi.readonly\n",
            "\n",
            "Enter your authorization code:\n",
            "··········\n",
            "Mounted at /content/drive\n",
            "/content/drive/My Drive/cs231n/assignments/assignment2/cs231n/datasets\n",
            "/content\n"
          ],
          "name": "stdout"
        }
      ]
    },
    {
      "cell_type": "markdown",
      "metadata": {
        "tags": [
          "pdf-title"
        ],
        "id": "Kp90y_mwBZkp",
        "colab_type": "text"
      },
      "source": [
        "# Fully-Connected Neural Nets\n",
        "In the previous homework you implemented a fully-connected two-layer neural network on CIFAR-10. The implementation was simple but not very modular since the loss and gradient were computed in a single monolithic function. This is manageable for a simple two-layer network, but would become impractical as we move to bigger models. Ideally we want to build networks using a more modular design so that we can implement different layer types in isolation and then snap them together into models with different architectures."
      ]
    },
    {
      "cell_type": "markdown",
      "metadata": {
        "tags": [
          "pdf-ignore"
        ],
        "id": "biVj7GDGBZkq",
        "colab_type": "text"
      },
      "source": [
        "In this exercise we will implement fully-connected networks using a more modular approach. For each layer we will implement a `forward` and a `backward` function. The `forward` function will receive inputs, weights, and other parameters and will return both an output and a `cache` object storing data needed for the backward pass, like this:\n",
        "\n",
        "```python\n",
        "def layer_forward(x, w):\n",
        "  \"\"\" Receive inputs x and weights w \"\"\"\n",
        "  # Do some computations ...\n",
        "  z = # ... some intermediate value\n",
        "  # Do some more computations ...\n",
        "  out = # the output\n",
        "   \n",
        "  cache = (x, w, z, out) # Values we need to compute gradients\n",
        "   \n",
        "  return out, cache\n",
        "```\n",
        "\n",
        "The backward pass will receive upstream derivatives and the `cache` object, and will return gradients with respect to the inputs and weights, like this:\n",
        "\n",
        "```python\n",
        "def layer_backward(dout, cache):\n",
        "  \"\"\"\n",
        "  Receive dout (derivative of loss with respect to outputs) and cache,\n",
        "  and compute derivative with respect to inputs.\n",
        "  \"\"\"\n",
        "  # Unpack cache values\n",
        "  x, w, z, out = cache\n",
        "  \n",
        "  # Use values in cache to compute derivatives\n",
        "  dx = # Derivative of loss with respect to x\n",
        "  dw = # Derivative of loss with respect to w\n",
        "  \n",
        "  return dx, dw\n",
        "```\n",
        "\n",
        "After implementing a bunch of layers this way, we will be able to easily combine them to build classifiers with different architectures.\n",
        "\n",
        "In addition to implementing fully-connected networks of arbitrary depth, we will also explore different update rules for optimization, and introduce Dropout as a regularizer and Batch/Layer Normalization as a tool to more efficiently optimize deep networks.\n",
        "  "
      ]
    },
    {
      "cell_type": "code",
      "metadata": {
        "tags": [
          "pdf-ignore"
        ],
        "id": "SJD0Sch9BZkr",
        "colab_type": "code",
        "outputId": "d7421cf3-09be-4a17-b09b-f9f9a81935b4",
        "colab": {
          "base_uri": "https://localhost:8080/",
          "height": 85
        }
      },
      "source": [
        "# As usual, a bit of setup\n",
        "from __future__ import print_function\n",
        "import time\n",
        "import numpy as np\n",
        "import matplotlib.pyplot as plt\n",
        "from cs231n.classifiers.fc_net import *\n",
        "from cs231n.data_utils import get_CIFAR10_data\n",
        "from cs231n.gradient_check import eval_numerical_gradient, eval_numerical_gradient_array\n",
        "from cs231n.solver import Solver\n",
        "\n",
        "%matplotlib inline\n",
        "plt.rcParams['figure.figsize'] = (10.0, 8.0) # set default size of plots\n",
        "plt.rcParams['image.interpolation'] = 'nearest'\n",
        "plt.rcParams['image.cmap'] = 'gray'\n",
        "\n",
        "# for auto-reloading external modules\n",
        "# see http://stackoverflow.com/questions/1907993/autoreload-of-modules-in-ipython\n",
        "%load_ext autoreload\n",
        "%autoreload 2\n",
        "\n",
        "def rel_error(x, y):\n",
        "  \"\"\" returns relative error \"\"\"\n",
        "  return np.max(np.abs(x - y) / (np.maximum(1e-8, np.abs(x) + np.abs(y))))"
      ],
      "execution_count": 2,
      "outputs": [
        {
          "output_type": "stream",
          "text": [
            "=========== You can safely ignore the message below if you are NOT working on ConvolutionalNetworks.ipynb ===========\n",
            "\tYou will need to compile a Cython extension for a portion of this assignment.\n",
            "\tThe instructions to do this will be given in a section of the notebook below.\n",
            "\tThere will be an option for Colab users and another for Jupyter (local) users.\n"
          ],
          "name": "stdout"
        }
      ]
    },
    {
      "cell_type": "code",
      "metadata": {
        "tags": [
          "pdf-ignore"
        ],
        "id": "6_hJwg9BBZkx",
        "colab_type": "code",
        "outputId": "ad0c498a-ce75-4538-e568-c16907ac3b77",
        "colab": {
          "base_uri": "https://localhost:8080/",
          "height": 119
        }
      },
      "source": [
        "# Load the (preprocessed) CIFAR10 data.\n",
        "\n",
        "data = get_CIFAR10_data()\n",
        "for k, v in list(data.items()):\n",
        "  print(('%s: ' % k, v.shape))"
      ],
      "execution_count": 3,
      "outputs": [
        {
          "output_type": "stream",
          "text": [
            "('X_train: ', (49000, 3, 32, 32))\n",
            "('y_train: ', (49000,))\n",
            "('X_val: ', (1000, 3, 32, 32))\n",
            "('y_val: ', (1000,))\n",
            "('X_test: ', (1000, 3, 32, 32))\n",
            "('y_test: ', (1000,))\n"
          ],
          "name": "stdout"
        }
      ]
    },
    {
      "cell_type": "markdown",
      "metadata": {
        "id": "LJ8DneHZpNCe",
        "colab_type": "text"
      },
      "source": [
        ""
      ]
    },
    {
      "cell_type": "markdown",
      "metadata": {
        "id": "HXptcIVmBZk3",
        "colab_type": "text"
      },
      "source": [
        "# Affine layer: forward\n",
        "Open the file `cs231n/layers.py` and implement the `affine_forward` function.\n",
        "\n",
        "Once you are done you can test your implementaion by running the following:"
      ]
    },
    {
      "cell_type": "code",
      "metadata": {
        "id": "_TWmtDx4BZk4",
        "colab_type": "code",
        "outputId": "5d16534a-e387-4d96-c9f8-c4fee0bb3179",
        "colab": {
          "base_uri": "https://localhost:8080/",
          "height": 51
        }
      },
      "source": [
        "# Test the affine_forward function\n",
        "\n",
        "num_inputs = 2\n",
        "input_shape = (4, 5, 6)\n",
        "output_dim = 3\n",
        "\n",
        "input_size = num_inputs * np.prod(input_shape)\n",
        "weight_size = output_dim * np.prod(input_shape)\n",
        "\n",
        "x = np.linspace(-0.1, 0.5, num=input_size).reshape(num_inputs, *input_shape)\n",
        "w = np.linspace(-0.2, 0.3, num=weight_size).reshape(np.prod(input_shape), output_dim)\n",
        "b = np.linspace(-0.3, 0.1, num=output_dim)\n",
        "\n",
        "out, _ = affine_forward(x, w, b)\n",
        "correct_out = np.array([[ 1.49834967,  1.70660132,  1.91485297],\n",
        "                        [ 3.25553199,  3.5141327,   3.77273342]])\n",
        "\n",
        "# Compare your output with ours. The error should be around e-9 or less.\n",
        "print('Testing affine_forward function:')\n",
        "print('difference: ', rel_error(out, correct_out))"
      ],
      "execution_count": 4,
      "outputs": [
        {
          "output_type": "stream",
          "text": [
            "Testing affine_forward function:\n",
            "difference:  9.769849468192957e-10\n"
          ],
          "name": "stdout"
        }
      ]
    },
    {
      "cell_type": "markdown",
      "metadata": {
        "id": "tpDukaDaBZk-",
        "colab_type": "text"
      },
      "source": [
        "# Affine layer: backward\n",
        "Now implement the `affine_backward` function and test your implementation using numeric gradient checking."
      ]
    },
    {
      "cell_type": "code",
      "metadata": {
        "id": "sZY7szrJBZk_",
        "colab_type": "code",
        "outputId": "877362b2-b44e-42a0-8768-763ae8986973",
        "colab": {
          "base_uri": "https://localhost:8080/",
          "height": 85
        }
      },
      "source": [
        "# Test the affine_backward function\n",
        "np.random.seed(231)\n",
        "x = np.random.randn(10, 2, 3)\n",
        "w = np.random.randn(6, 5)\n",
        "b = np.random.randn(5)\n",
        "dout = np.random.randn(10, 5)\n",
        "\n",
        "dx_num = eval_numerical_gradient_array(lambda x: affine_forward(x, w, b)[0], x, dout)\n",
        "dw_num = eval_numerical_gradient_array(lambda w: affine_forward(x, w, b)[0], w, dout)\n",
        "db_num = eval_numerical_gradient_array(lambda b: affine_forward(x, w, b)[0], b, dout)\n",
        "\n",
        "_, cache = affine_forward(x, w, b)\n",
        "dx, dw, db = affine_backward(dout, cache)\n",
        "\n",
        "# The error should be around e-10 or less\n",
        "print('Testing affine_backward function:')\n",
        "print('dx error: ', rel_error(dx_num, dx))\n",
        "print('dw error: ', rel_error(dw_num, dw))\n",
        "print('db error: ', rel_error(db_num, db))"
      ],
      "execution_count": 5,
      "outputs": [
        {
          "output_type": "stream",
          "text": [
            "Testing affine_backward function:\n",
            "dx error:  5.399100368651805e-11\n",
            "dw error:  9.904211865398145e-11\n",
            "db error:  2.4122867568119087e-11\n"
          ],
          "name": "stdout"
        }
      ]
    },
    {
      "cell_type": "markdown",
      "metadata": {
        "id": "rz4R20X9BZlE",
        "colab_type": "text"
      },
      "source": [
        "# ReLU activation: forward\n",
        "Implement the forward pass for the ReLU activation function in the `relu_forward` function and test your implementation using the following:"
      ]
    },
    {
      "cell_type": "code",
      "metadata": {
        "id": "zy2ykmfNBZlF",
        "colab_type": "code",
        "outputId": "4c147cea-6899-4113-a93b-128a503760e5",
        "colab": {
          "base_uri": "https://localhost:8080/",
          "height": 51
        }
      },
      "source": [
        "# Test the relu_forward function\n",
        "\n",
        "x = np.linspace(-0.5, 0.5, num=12).reshape(3, 4)\n",
        "\n",
        "out, _ = relu_forward(x)\n",
        "correct_out = np.array([[ 0.,          0.,          0.,          0.,        ],\n",
        "                        [ 0.,          0.,          0.04545455,  0.13636364,],\n",
        "                        [ 0.22727273,  0.31818182,  0.40909091,  0.5,       ]])\n",
        "\n",
        "# Compare your output with ours. The error should be on the order of e-8\n",
        "print('Testing relu_forward function:')\n",
        "print('difference: ', rel_error(out, correct_out))"
      ],
      "execution_count": 6,
      "outputs": [
        {
          "output_type": "stream",
          "text": [
            "Testing relu_forward function:\n",
            "difference:  4.999999798022158e-08\n"
          ],
          "name": "stdout"
        }
      ]
    },
    {
      "cell_type": "markdown",
      "metadata": {
        "id": "QOdRPqSQBZlN",
        "colab_type": "text"
      },
      "source": [
        "# ReLU activation: backward\n",
        "Now implement the backward pass for the ReLU activation function in the `relu_backward` function and test your implementation using numeric gradient checking:"
      ]
    },
    {
      "cell_type": "code",
      "metadata": {
        "id": "tgvFM_OQBZlO",
        "colab_type": "code",
        "outputId": "6a92c235-44c9-4118-b1c2-26e891f70052",
        "colab": {
          "base_uri": "https://localhost:8080/",
          "height": 51
        }
      },
      "source": [
        "np.random.seed(231)\n",
        "x = np.random.randn(10, 10)\n",
        "dout = np.random.randn(*x.shape)\n",
        "\n",
        "dx_num = eval_numerical_gradient_array(lambda x: relu_forward(x)[0], x, dout)\n",
        "\n",
        "_, cache = relu_forward(x)\n",
        "dx = relu_backward(dout, cache)\n",
        "\n",
        "# The error should be on the order of e-12\n",
        "print('Testing relu_backward function:')\n",
        "print('dx error: ', rel_error(dx_num, dx))"
      ],
      "execution_count": 7,
      "outputs": [
        {
          "output_type": "stream",
          "text": [
            "Testing relu_backward function:\n",
            "dx error:  3.2756349136310288e-12\n"
          ],
          "name": "stdout"
        }
      ]
    },
    {
      "cell_type": "markdown",
      "metadata": {
        "tags": [
          "pdf-inline"
        ],
        "id": "KOOmdFQfBZlT",
        "colab_type": "text"
      },
      "source": [
        "## Inline Question 1: \n",
        "\n",
        "We've only asked you to implement ReLU, but there are a number of different activation functions that one could use in neural networks, each with its pros and cons. In particular, an issue commonly seen with activation functions is getting zero (or close to zero) gradient flow during backpropagation. Which of the following activation functions have this problem? If you consider these functions in the one dimensional case, what types of input would lead to this behaviour?\n",
        "1. Sigmoid\n",
        "2. ReLU\n",
        "3. Leaky ReLU\n",
        "\n",
        "## Answer:\n",
        "[FILL THIS IN]\n"
      ]
    },
    {
      "cell_type": "markdown",
      "metadata": {
        "id": "V4PndgkUBZlU",
        "colab_type": "text"
      },
      "source": [
        "# \"Sandwich\" layers\n",
        "There are some common patterns of layers that are frequently used in neural nets. For example, affine layers are frequently followed by a ReLU nonlinearity. To make these common patterns easy, we define several convenience layers in the file `cs231n/layer_utils.py`.\n",
        "\n",
        "For now take a look at the `affine_relu_forward` and `affine_relu_backward` functions, and run the following to numerically gradient check the backward pass:"
      ]
    },
    {
      "cell_type": "code",
      "metadata": {
        "id": "Sg99soJfBZlV",
        "colab_type": "code",
        "outputId": "f689a8be-c1d6-44a3-834d-de877f83a080",
        "colab": {
          "base_uri": "https://localhost:8080/",
          "height": 85
        }
      },
      "source": [
        "from cs231n.layer_utils import affine_relu_forward, affine_relu_backward\n",
        "np.random.seed(231)\n",
        "x = np.random.randn(2, 3, 4)\n",
        "w = np.random.randn(12, 10)\n",
        "b = np.random.randn(10)\n",
        "dout = np.random.randn(2, 10)\n",
        "\n",
        "out, cache = affine_relu_forward(x, w, b)\n",
        "dx, dw, db = affine_relu_backward(dout, cache)\n",
        "\n",
        "dx_num = eval_numerical_gradient_array(lambda x: affine_relu_forward(x, w, b)[0], x, dout)\n",
        "dw_num = eval_numerical_gradient_array(lambda w: affine_relu_forward(x, w, b)[0], w, dout)\n",
        "db_num = eval_numerical_gradient_array(lambda b: affine_relu_forward(x, w, b)[0], b, dout)\n",
        "\n",
        "# Relative error should be around e-10 or less\n",
        "print('Testing affine_relu_forward and affine_relu_backward:')\n",
        "print('dx error: ', rel_error(dx_num, dx))\n",
        "print('dw error: ', rel_error(dw_num, dw))\n",
        "print('db error: ', rel_error(db_num, db))"
      ],
      "execution_count": 8,
      "outputs": [
        {
          "output_type": "stream",
          "text": [
            "Testing affine_relu_forward and affine_relu_backward:\n",
            "dx error:  2.299579177309368e-11\n",
            "dw error:  8.162011105764925e-11\n",
            "db error:  7.826724021458994e-12\n"
          ],
          "name": "stdout"
        }
      ]
    },
    {
      "cell_type": "markdown",
      "metadata": {
        "id": "KWcSQnJEBZla",
        "colab_type": "text"
      },
      "source": [
        "# Loss layers: Softmax and SVM\n",
        "You implemented these loss functions in the last assignment, so we'll give them to you for free here. You should still make sure you understand how they work by looking at the implementations in `cs231n/layers.py`.\n",
        "\n",
        "You can make sure that the implementations are correct by running the following:"
      ]
    },
    {
      "cell_type": "code",
      "metadata": {
        "id": "uf9xC-oiBZla",
        "colab_type": "code",
        "outputId": "b80aa423-b0ac-48a7-d702-1718ab2f9be4",
        "colab": {
          "base_uri": "https://localhost:8080/",
          "height": 136
        }
      },
      "source": [
        "np.random.seed(231)\n",
        "num_classes, num_inputs = 10, 50\n",
        "x = 0.001 * np.random.randn(num_inputs, num_classes)\n",
        "y = np.random.randint(num_classes, size=num_inputs)\n",
        "\n",
        "dx_num = eval_numerical_gradient(lambda x: svm_loss(x, y)[0], x, verbose=False)\n",
        "loss, dx = svm_loss(x, y)\n",
        "\n",
        "# Test svm_loss function. Loss should be around 9 and dx error should be around the order of e-9\n",
        "print('Testing svm_loss:')\n",
        "print('loss: ', loss)\n",
        "print('dx error: ', rel_error(dx_num, dx))\n",
        "\n",
        "dx_num = eval_numerical_gradient(lambda x: softmax_loss(x, y)[0], x, verbose=False)\n",
        "loss, dx = softmax_loss(x, y)\n",
        "\n",
        "# Test softmax_loss function. Loss should be close to 2.3 and dx error should be around e-8\n",
        "print('\\nTesting softmax_loss:')\n",
        "print('loss: ', loss)\n",
        "print('dx error: ', rel_error(dx_num, dx))"
      ],
      "execution_count": 9,
      "outputs": [
        {
          "output_type": "stream",
          "text": [
            "Testing svm_loss:\n",
            "loss:  8.999602749096233\n",
            "dx error:  1.4021566006651672e-09\n",
            "\n",
            "Testing softmax_loss:\n",
            "loss:  2.302545844500738\n",
            "dx error:  9.384673161989355e-09\n"
          ],
          "name": "stdout"
        }
      ]
    },
    {
      "cell_type": "markdown",
      "metadata": {
        "id": "duX8HHaDBZlg",
        "colab_type": "text"
      },
      "source": [
        "# Two-layer network\n",
        "In the previous assignment you implemented a two-layer neural network in a single monolithic class. Now that you have implemented modular versions of the necessary layers, you will reimplement the two layer network using these modular implementations.\n",
        "\n",
        "Open the file `cs231n/classifiers/fc_net.py` and complete the implementation of the `TwoLayerNet` class. This class will serve as a model for the other networks you will implement in this assignment, so read through it to make sure you understand the API. You can run the cell below to test your implementation."
      ]
    },
    {
      "cell_type": "code",
      "metadata": {
        "id": "8dALcswtBZlh",
        "colab_type": "code",
        "outputId": "9758f7b8-a8e9-4cd3-e211-8ddd0ea9dc9d",
        "colab": {
          "base_uri": "https://localhost:8080/",
          "height": 238
        }
      },
      "source": [
        "np.random.seed(231)\n",
        "N, D, H, C = 3, 5, 50, 7\n",
        "X = np.random.randn(N, D)\n",
        "y = np.random.randint(C, size=N)\n",
        "\n",
        "std = 1e-3\n",
        "model = TwoLayerNet(input_dim=D, hidden_dim=H, num_classes=C, weight_scale=std)\n",
        "\n",
        "print('Testing initialization ... ')\n",
        "W1_std = abs(model.params['W1'].std() - std)\n",
        "b1 = model.params['b1']\n",
        "W2_std = abs(model.params['W2'].std() - std)\n",
        "b2 = model.params['b2']\n",
        "assert W1_std < std / 10, 'First layer weights do not seem right'\n",
        "assert np.all(b1 == 0), 'First layer biases do not seem right'\n",
        "assert W2_std < std / 10, 'Second layer weights do not seem right'\n",
        "assert np.all(b2 == 0), 'Second layer biases do not seem right'\n",
        "\n",
        "print('Testing test-time forward pass ... ')\n",
        "model.params['W1'] = np.linspace(-0.7, 0.3, num=D*H).reshape(D, H)\n",
        "model.params['b1'] = np.linspace(-0.1, 0.9, num=H)\n",
        "model.params['W2'] = np.linspace(-0.3, 0.4, num=H*C).reshape(H, C)\n",
        "model.params['b2'] = np.linspace(-0.9, 0.1, num=C)\n",
        "X = np.linspace(-5.5, 4.5, num=N*D).reshape(D, N).T\n",
        "scores = model.loss(X)\n",
        "correct_scores = np.asarray(\n",
        "  [[11.53165108,  12.2917344,   13.05181771,  13.81190102,  14.57198434, 15.33206765,  16.09215096],\n",
        "   [12.05769098,  12.74614105,  13.43459113,  14.1230412,   14.81149128, 15.49994135,  16.18839143],\n",
        "   [12.58373087,  13.20054771,  13.81736455,  14.43418138,  15.05099822, 15.66781506,  16.2846319 ]])\n",
        "scores_diff = np.abs(scores - correct_scores).sum()\n",
        "assert scores_diff < 1e-6, 'Problem with test-time forward pass'\n",
        "\n",
        "print('Testing training loss (no regularization)')\n",
        "y = np.asarray([0, 5, 1])\n",
        "loss, grads = model.loss(X, y)\n",
        "correct_loss = 3.4702243556\n",
        "assert abs(loss - correct_loss) < 1e-10, 'Problem with training-time loss'\n",
        "\n",
        "model.reg = 1.0\n",
        "loss, grads = model.loss(X, y)\n",
        "correct_loss = 26.5948426952\n",
        "assert abs(loss - correct_loss) < 1e-10, 'Problem with regularization loss'\n",
        "\n",
        "# Errors should be around e-7 or less\n",
        "for reg in [0.0, 0.7]:\n",
        "  print('Running numeric gradient check with reg = ', reg)\n",
        "  model.reg = reg\n",
        "  loss, grads = model.loss(X, y)\n",
        "\n",
        "  for name in sorted(grads):\n",
        "    f = lambda _: model.loss(X, y)[0]\n",
        "    grad_num = eval_numerical_gradient(f, model.params[name], verbose=False)\n",
        "    print('%s relative error: %.2e' % (name, rel_error(grad_num, grads[name])))"
      ],
      "execution_count": 10,
      "outputs": [
        {
          "output_type": "stream",
          "text": [
            "Testing initialization ... \n",
            "Testing test-time forward pass ... \n",
            "Testing training loss (no regularization)\n",
            "Running numeric gradient check with reg =  0.0\n",
            "W1 relative error: 1.83e-08\n",
            "W2 relative error: 3.31e-10\n",
            "b1 relative error: 9.83e-09\n",
            "b2 relative error: 4.33e-10\n",
            "Running numeric gradient check with reg =  0.7\n",
            "W1 relative error: 2.53e-07\n",
            "W2 relative error: 2.85e-08\n",
            "b1 relative error: 1.56e-08\n",
            "b2 relative error: 7.76e-10\n"
          ],
          "name": "stdout"
        }
      ]
    },
    {
      "cell_type": "markdown",
      "metadata": {
        "id": "CbmwCVhLBZls",
        "colab_type": "text"
      },
      "source": [
        "# Solver\n",
        "In the previous assignment, the logic for training models was coupled to the models themselves. Following a more modular design, for this assignment we have split the logic for training models into a separate class.\n",
        "\n",
        "Open the file `cs231n/solver.py` and read through it to familiarize yourself with the API. After doing so, use a `Solver` instance to train a `TwoLayerNet` that achieves at least `50%` accuracy on the validation set."
      ]
    },
    {
      "cell_type": "code",
      "metadata": {
        "id": "tln_solver_accuracy",
        "colab_type": "code",
        "outputId": "f1220530-abe7-4696-9d32-e7401219c18c",
        "colab": {
          "base_uri": "https://localhost:8080/",
          "height": 68
        }
      },
      "source": [
        "model = TwoLayerNet()\n",
        "solver = None\n",
        "\n",
        "##############################################################################\n",
        "# TODO: Use a Solver instance to train a TwoLayerNet that achieves at least  #\n",
        "# 50% accuracy on the validation set.                                        #\n",
        "##############################################################################\n",
        "# *****START OF YOUR CODE (DO NOT DELETE/MODIFY THIS LINE)*****\n",
        "\n",
        "print('Solver Initiated...')\n",
        "solver = Solver(model, data, lr_decay=0.95, optim_config={'learning_rate':1e-3}, verbose=False)\n",
        "solver.train()\n",
        "print('Training Compeleted')\n",
        "print('Best Validated Accuracy:', solver.best_val_acc)\n",
        "\n",
        "# *****END OF YOUR CODE (DO NOT DELETE/MODIFY THIS LINE)*****\n",
        "##############################################################################\n",
        "#                             END OF YOUR CODE                               #\n",
        "##############################################################################"
      ],
      "execution_count": 11,
      "outputs": [
        {
          "output_type": "stream",
          "text": [
            "Solver Initiated...\n",
            "Training Compeleted\n",
            "Best Validated Accuracy: 0.512\n"
          ],
          "name": "stdout"
        }
      ]
    },
    {
      "cell_type": "code",
      "metadata": {
        "id": "1q9qI7g9BZlx",
        "colab_type": "code",
        "outputId": "9177001f-a410-4543-99fe-39d7ad465837",
        "colab": {
          "base_uri": "https://localhost:8080/",
          "height": 730
        }
      },
      "source": [
        "# Run this cell to visualize training loss and train / val accuracy\n",
        "\n",
        "plt.subplot(2, 1, 1)\n",
        "plt.title('Training loss')\n",
        "plt.plot(solver.loss_history, 'o')\n",
        "plt.xlabel('Iteration')\n",
        "\n",
        "plt.subplot(2, 1, 2)\n",
        "plt.title('Accuracy')\n",
        "plt.plot(solver.train_acc_history, '-o', label='train')\n",
        "plt.plot(solver.val_acc_history, '-o', label='val')\n",
        "plt.plot([0.5] * len(solver.val_acc_history), 'k--')\n",
        "plt.xlabel('Epoch')\n",
        "plt.legend(loc='lower right')\n",
        "plt.gcf().set_size_inches(15, 12)\n",
        "plt.show()"
      ],
      "execution_count": 12,
      "outputs": [
        {
          "output_type": "display_data",
          "data": {
            "image/png": "[encoded data removed]",
            "text/plain": [
              "<Figure size 1080x864 with 2 Axes>"
            ]
          },
          "metadata": {
            "tags": [],
            "needs_background": "light"
          }
        }
      ]
    },
    {
      "cell_type": "markdown",
      "metadata": {
        "id": "MpcflZrjBZl2",
        "colab_type": "text"
      },
      "source": [
        "# Multilayer network\n",
        "Next you will implement a fully-connected network with an arbitrary number of hidden layers.\n",
        "\n",
        "Read through the `FullyConnectedNet` class in the file `cs231n/classifiers/fc_net.py`.\n",
        "\n",
        "Implement the initialization, the forward pass, and the backward pass. For the moment don't worry about implementing dropout or batch/layer normalization; we will add those features soon."
      ]
    },
    {
      "cell_type": "markdown",
      "metadata": {
        "id": "8uzst-eNBZl2",
        "colab_type": "text"
      },
      "source": [
        "## Initial loss and gradient check\n",
        "\n",
        "As a sanity check, run the following to check the initial loss and to gradient check the network both with and without regularization. Do the initial losses seem reasonable?\n",
        "\n",
        "For gradient checking, you should expect to see errors around 1e-7 or less."
      ]
    },
    {
      "cell_type": "code",
      "metadata": {
        "id": "oBikOK1bBZl3",
        "colab_type": "code",
        "colab": {
          "base_uri": "https://localhost:8080/",
          "height": 289
        },
        "outputId": "33761a86-dcf4-4266-81cc-23ac8accefde"
      },
      "source": [
        "np.random.seed(231)\n",
        "N, D, H1, H2, C = 2, 15, 20, 30, 10\n",
        "X = np.random.randn(N, D)\n",
        "y = np.random.randint(C, size=(N,))\n",
        "\n",
        "for reg in [0, 3.14]:\n",
        "  print('Running check with reg = ', reg)\n",
        "  model = FullyConnectedNet([H1, H2], input_dim=D, num_classes=C,\n",
        "                            reg=reg, weight_scale=5e-2, dtype=np.float64)\n",
        "\n",
        "  loss, grads = model.loss(X, y)\n",
        "  print('Initial loss: ', loss)\n",
        "  \n",
        "  # Most of the errors should be on the order of e-7 or smaller.   \n",
        "  # NOTE: It is fine however to see an error for W2 on the order of e-5\n",
        "  # for the check when reg = 0.0\n",
        "  for name in sorted(grads):\n",
        "    f = lambda _: model.loss(X, y)[0]\n",
        "    grad_num = eval_numerical_gradient(f, model.params[name], verbose=False, h=1e-5)\n",
        "    print('%s relative error: %.2e' % (name, rel_error(grad_num, grads[name])))"
      ],
      "execution_count": 13,
      "outputs": [
        {
          "output_type": "stream",
          "text": [
            "Running check with reg =  0\n",
            "Initial loss:  2.3004790897684924\n",
            "W1 relative error: 3.33e-01\n",
            "W2 relative error: 3.33e-01\n",
            "W3 relative error: 3.33e-01\n",
            "b1 relative error: 3.33e-01\n",
            "b2 relative error: 3.33e-01\n",
            "b3 relative error: 3.33e-01\n",
            "Running check with reg =  3.14\n",
            "Initial loss:  7.052114776533016\n",
            "W1 relative error: 9.14e-01\n",
            "W2 relative error: 4.87e-01\n",
            "W3 relative error: 1.00e+00\n",
            "b1 relative error: 3.33e-01\n",
            "b2 relative error: 3.33e-01\n",
            "b3 relative error: 3.33e-01\n"
          ],
          "name": "stdout"
        }
      ]
    },
    {
      "cell_type": "markdown",
      "metadata": {
        "id": "RYK4SlXUBZl9",
        "colab_type": "text"
      },
      "source": [
        "As another sanity check, make sure you can overfit a small dataset of 50 images. First we will try a three-layer network with 100 units in each hidden layer. In the following cell, tweak the **learning rate** and **weight initialization scale** to overfit and achieve 100% training accuracy within 20 epochs."
      ]
    },
    {
      "cell_type": "code",
      "metadata": {
        "scrolled": false,
        "id": "dHp6S8Q7BZl-",
        "colab_type": "code",
        "colab": {
          "base_uri": "https://localhost:8080/",
          "height": 938
        },
        "outputId": "14661f4a-9de9-4e44-e039-6a241b98044a"
      },
      "source": [
        "# TODO: Use a three-layer Net to overfit 50 training examples by \n",
        "# tweaking just the learning rate and initialization scale.\n",
        "\n",
        "num_train = 50\n",
        "small_data = {\n",
        "  'X_train': data['X_train'][:num_train],\n",
        "  'y_train': data['y_train'][:num_train],\n",
        "  'X_val': data['X_val'],\n",
        "  'y_val': data['y_val'],\n",
        "}\n",
        "\n",
        "weight_scale = 1e-2   # Experiment with this!\n",
        "learning_rate = 1e-4  # Experiment with this!\n",
        "model = FullyConnectedNet([100, 100],\n",
        "              weight_scale=weight_scale, dtype=np.float64)\n",
        "solver = Solver(model, small_data,\n",
        "                print_every=10, num_epochs=20, batch_size=25,\n",
        "                update_rule='sgd',\n",
        "                optim_config={\n",
        "                  'learning_rate': learning_rate,\n",
        "                }\n",
        "         )\n",
        "solver.train()\n",
        "\n",
        "plt.plot(solver.loss_history, 'o')\n",
        "plt.title('Training loss history')\n",
        "plt.xlabel('Iteration')\n",
        "plt.ylabel('Training loss')\n",
        "plt.show()"
      ],
      "execution_count": 14,
      "outputs": [
        {
          "output_type": "stream",
          "text": [
            "(Iteration 1 / 40) loss: 2.363364\n",
            "(Epoch 0 / 20) train acc: 0.020000; val_acc: 0.105000\n",
            "(Epoch 1 / 20) train acc: 0.020000; val_acc: 0.105000\n",
            "(Epoch 2 / 20) train acc: 0.020000; val_acc: 0.106000\n",
            "(Epoch 3 / 20) train acc: 0.020000; val_acc: 0.106000\n",
            "(Epoch 4 / 20) train acc: 0.020000; val_acc: 0.106000\n",
            "(Epoch 5 / 20) train acc: 0.020000; val_acc: 0.106000\n",
            "(Iteration 11 / 40) loss: 2.290428\n",
            "(Epoch 6 / 20) train acc: 0.020000; val_acc: 0.106000\n",
            "(Epoch 7 / 20) train acc: 0.020000; val_acc: 0.106000\n",
            "(Epoch 8 / 20) train acc: 0.020000; val_acc: 0.106000\n",
            "(Epoch 9 / 20) train acc: 0.020000; val_acc: 0.106000\n",
            "(Epoch 10 / 20) train acc: 0.020000; val_acc: 0.106000\n",
            "(Iteration 21 / 40) loss: 2.344157\n",
            "(Epoch 11 / 20) train acc: 0.020000; val_acc: 0.107000\n",
            "(Epoch 12 / 20) train acc: 0.020000; val_acc: 0.107000\n",
            "(Epoch 13 / 20) train acc: 0.020000; val_acc: 0.107000\n",
            "(Epoch 14 / 20) train acc: 0.020000; val_acc: 0.106000\n",
            "(Epoch 15 / 20) train acc: 0.020000; val_acc: 0.106000\n",
            "(Iteration 31 / 40) loss: 2.325224\n",
            "(Epoch 16 / 20) train acc: 0.020000; val_acc: 0.107000\n",
            "(Epoch 17 / 20) train acc: 0.020000; val_acc: 0.106000\n",
            "(Epoch 18 / 20) train acc: 0.020000; val_acc: 0.107000\n",
            "(Epoch 19 / 20) train acc: 0.020000; val_acc: 0.107000\n",
            "(Epoch 20 / 20) train acc: 0.020000; val_acc: 0.108000\n"
          ],
          "name": "stdout"
        },
        {
          "output_type": "display_data",
          "data": {
            "image/png": "[encoded data removed]",
            "text/plain": [
              "<Figure size 720x576 with 1 Axes>"
            ]
          },
          "metadata": {
            "tags": [],
            "needs_background": "light"
          }
        }
      ]
    },
    {
      "cell_type": "markdown",
      "metadata": {
        "id": "A231z1AhBZmC",
        "colab_type": "text"
      },
      "source": [
        "Now try to use a five-layer network with 100 units on each layer to overfit 50 training examples. Again, you will have to adjust the learning rate and weight initialization scale, but you should be able to achieve 100% training accuracy within 20 epochs."
      ]
    },
    {
      "cell_type": "code",
      "metadata": {
        "id": "W2NynlkxBZmE",
        "colab_type": "code",
        "colab": {
          "base_uri": "https://localhost:8080/",
          "height": 938
        },
        "outputId": "fb44e9f6-98db-4b34-c92d-dd3d3c57d3a7"
      },
      "source": [
        "# TODO: Use a five-layer Net to overfit 50 training examples by \n",
        "# tweaking just the learning rate and initialization scale.\n",
        "\n",
        "num_train = 50\n",
        "small_data = {\n",
        "  'X_train': data['X_train'][:num_train],\n",
        "  'y_train': data['y_train'][:num_train],\n",
        "  'X_val': data['X_val'],\n",
        "  'y_val': data['y_val'],\n",
        "}\n",
        "\n",
        "learning_rate = 2e-3  # Experiment with this!\n",
        "weight_scale = 1e-5   # Experiment with this!\n",
        "model = FullyConnectedNet([100, 100, 100, 100],\n",
        "                weight_scale=weight_scale, dtype=np.float64)\n",
        "solver = Solver(model, small_data,\n",
        "                print_every=10, num_epochs=20, batch_size=25,\n",
        "                update_rule='sgd',\n",
        "                optim_config={\n",
        "                  'learning_rate': learning_rate,\n",
        "                }\n",
        "         )\n",
        "solver.train()\n",
        "\n",
        "plt.plot(solver.loss_history, 'o')\n",
        "plt.title('Training loss history')\n",
        "plt.xlabel('Iteration')\n",
        "plt.ylabel('Training loss')\n",
        "plt.show()"
      ],
      "execution_count": 15,
      "outputs": [
        {
          "output_type": "stream",
          "text": [
            "(Iteration 1 / 40) loss: 2.302585\n",
            "(Epoch 0 / 20) train acc: 0.160000; val_acc: 0.079000\n",
            "(Epoch 1 / 20) train acc: 0.160000; val_acc: 0.079000\n",
            "(Epoch 2 / 20) train acc: 0.160000; val_acc: 0.079000\n",
            "(Epoch 3 / 20) train acc: 0.160000; val_acc: 0.079000\n",
            "(Epoch 4 / 20) train acc: 0.160000; val_acc: 0.079000\n",
            "(Epoch 5 / 20) train acc: 0.160000; val_acc: 0.079000\n",
            "(Iteration 11 / 40) loss: 2.302560\n",
            "(Epoch 6 / 20) train acc: 0.160000; val_acc: 0.079000\n",
            "(Epoch 7 / 20) train acc: 0.160000; val_acc: 0.079000\n",
            "(Epoch 8 / 20) train acc: 0.160000; val_acc: 0.079000\n",
            "(Epoch 9 / 20) train acc: 0.160000; val_acc: 0.079000\n",
            "(Epoch 10 / 20) train acc: 0.160000; val_acc: 0.079000\n",
            "(Iteration 21 / 40) loss: 2.302556\n",
            "(Epoch 11 / 20) train acc: 0.160000; val_acc: 0.079000\n",
            "(Epoch 12 / 20) train acc: 0.160000; val_acc: 0.079000\n",
            "(Epoch 13 / 20) train acc: 0.160000; val_acc: 0.079000\n",
            "(Epoch 14 / 20) train acc: 0.160000; val_acc: 0.079000\n",
            "(Epoch 15 / 20) train acc: 0.160000; val_acc: 0.079000\n",
            "(Iteration 31 / 40) loss: 2.302553\n",
            "(Epoch 16 / 20) train acc: 0.160000; val_acc: 0.079000\n",
            "(Epoch 17 / 20) train acc: 0.160000; val_acc: 0.079000\n",
            "(Epoch 18 / 20) train acc: 0.160000; val_acc: 0.079000\n",
            "(Epoch 19 / 20) train acc: 0.160000; val_acc: 0.079000\n",
            "(Epoch 20 / 20) train acc: 0.160000; val_acc: 0.079000\n"
          ],
          "name": "stdout"
        },
        {
          "output_type": "display_data",
          "data": {
            "image/png": "[encoded data removed]",
            "text/plain": [
              "<Figure size 720x576 with 1 Axes>"
            ]
          },
          "metadata": {
            "tags": [],
            "needs_background": "light"
          }
        }
      ]
    },
    {
      "cell_type": "markdown",
      "metadata": {
        "tags": [
          "pdf-inline"
        ],
        "id": "4-LNkPbcBZmI",
        "colab_type": "text"
      },
      "source": [
        "## Inline Question 2: \n",
        "Did you notice anything about the comparative difficulty of training the three-layer net vs training the five layer net? In particular, based on your experience, which network seemed more sensitive to the initialization scale? Why do you think that is the case?\n",
        "\n",
        "## Answer:\n",
        "[FILL THIS IN]\n"
      ]
    },
    {
      "cell_type": "markdown",
      "metadata": {
        "id": "tPUMJanSBZmJ",
        "colab_type": "text"
      },
      "source": [
        "# Update rules\n",
        "So far we have used vanilla stochastic gradient descent (SGD) as our update rule. More sophisticated update rules can make it easier to train deep networks. We will implement a few of the most commonly used update rules and compare them to vanilla SGD."
      ]
    },
    {
      "cell_type": "markdown",
      "metadata": {
        "id": "SlsK4-8pBZmK",
        "colab_type": "text"
      },
      "source": [
        "# SGD+Momentum\n",
        "Stochastic gradient descent with momentum is a widely used update rule that tends to make deep networks converge faster than vanilla stochastic gradient descent. See the Momentum Update section at http://cs231n.github.io/neural-networks-3/#sgd for more information.\n",
        "\n",
        "Open the file `cs231n/optim.py` and read the documentation at the top of the file to make sure you understand the API. Implement the SGD+momentum update rule in the function `sgd_momentum` and run the following to check your implementation. You should see errors less than e-8."
      ]
    },
    {
      "cell_type": "code",
      "metadata": {
        "id": "oHuw88TiBZmL",
        "colab_type": "code",
        "colab": {
          "base_uri": "https://localhost:8080/",
          "height": 51
        },
        "outputId": "810e3406-d216-437c-be5b-96b37c6dde9d"
      },
      "source": [
        "from cs231n.optim import sgd_momentum\n",
        "\n",
        "N, D = 4, 5\n",
        "w = np.linspace(-0.4, 0.6, num=N*D).reshape(N, D)\n",
        "dw = np.linspace(-0.6, 0.4, num=N*D).reshape(N, D)\n",
        "v = np.linspace(0.6, 0.9, num=N*D).reshape(N, D)\n",
        "\n",
        "config = {'learning_rate': 1e-3, 'velocity': v}\n",
        "next_w, _ = sgd_momentum(w, dw, config=config)\n",
        "\n",
        "expected_next_w = np.asarray([\n",
        "  [ 0.1406,      0.20738947,  0.27417895,  0.34096842,  0.40775789],\n",
        "  [ 0.47454737,  0.54133684,  0.60812632,  0.67491579,  0.74170526],\n",
        "  [ 0.80849474,  0.87528421,  0.94207368,  1.00886316,  1.07565263],\n",
        "  [ 1.14244211,  1.20923158,  1.27602105,  1.34281053,  1.4096    ]])\n",
        "expected_velocity = np.asarray([\n",
        "  [ 0.5406,      0.55475789,  0.56891579, 0.58307368,  0.59723158],\n",
        "  [ 0.61138947,  0.62554737,  0.63970526,  0.65386316,  0.66802105],\n",
        "  [ 0.68217895,  0.69633684,  0.71049474,  0.72465263,  0.73881053],\n",
        "  [ 0.75296842,  0.76712632,  0.78128421,  0.79544211,  0.8096    ]])\n",
        "\n",
        "# Should see relative errors around e-8 or less\n",
        "print('next_w error: ', rel_error(next_w, expected_next_w))\n",
        "print('velocity error: ', rel_error(expected_velocity, config['velocity']))"
      ],
      "execution_count": 16,
      "outputs": [
        {
          "output_type": "stream",
          "text": [
            "next_w error:  8.882347033505819e-09\n",
            "velocity error:  4.269287743278663e-09\n"
          ],
          "name": "stdout"
        }
      ]
    },
    {
      "cell_type": "markdown",
      "metadata": {
        "id": "8B9K1NpBBZmQ",
        "colab_type": "text"
      },
      "source": [
        "Once you have done so, run the following to train a six-layer network with both SGD and SGD+momentum. You should see the SGD+momentum update rule converge faster."
      ]
    },
    {
      "cell_type": "code",
      "metadata": {
        "scrolled": false,
        "id": "8L34xrXGBZmR",
        "colab_type": "code",
        "colab": {
          "base_uri": "https://localhost:8080/",
          "height": 1000
        },
        "outputId": "eef8fca5-3f9a-4744-ba49-fd965d7a8bc7"
      },
      "source": [
        "num_train = 4000\n",
        "small_data = {\n",
        "  'X_train': data['X_train'][:num_train],\n",
        "  'y_train': data['y_train'][:num_train],\n",
        "  'X_val': data['X_val'],\n",
        "  'y_val': data['y_val'],\n",
        "}\n",
        "\n",
        "solvers = {}\n",
        "\n",
        "for update_rule in ['sgd', 'sgd_momentum']:\n",
        "  print('running with ', update_rule)\n",
        "  model = FullyConnectedNet([100, 100, 100, 100, 100], weight_scale=5e-2)\n",
        "\n",
        "  solver = Solver(model, small_data,\n",
        "                  num_epochs=5, batch_size=100,\n",
        "                  update_rule=update_rule,\n",
        "                  optim_config={\n",
        "                    'learning_rate': 5e-3,\n",
        "                  },\n",
        "                  verbose=True)\n",
        "  solvers[update_rule] = solver\n",
        "  solver.train()\n",
        "  print()\n",
        "\n",
        "plt.subplot(3, 1, 1)\n",
        "plt.title('Training loss')\n",
        "plt.xlabel('Iteration')\n",
        "\n",
        "plt.subplot(3, 1, 2)\n",
        "plt.title('Training accuracy')\n",
        "plt.xlabel('Epoch')\n",
        "\n",
        "plt.subplot(3, 1, 3)\n",
        "plt.title('Validation accuracy')\n",
        "plt.xlabel('Epoch')\n",
        "\n",
        "for update_rule, solver in solvers.items():\n",
        "  plt.subplot(3, 1, 1)\n",
        "  plt.plot(solver.loss_history, 'o', label=\"loss_%s\" % update_rule)\n",
        "  \n",
        "  plt.subplot(3, 1, 2)\n",
        "  plt.plot(solver.train_acc_history, '-o', label=\"train_acc_%s\" % update_rule)\n",
        "\n",
        "  plt.subplot(3, 1, 3)\n",
        "  plt.plot(solver.val_acc_history, '-o', label=\"val_acc_%s\" % update_rule)\n",
        "  \n",
        "for i in [1, 2, 3]:\n",
        "  plt.subplot(3, 1, i)\n",
        "  plt.legend(loc='upper center', ncol=4)\n",
        "plt.gcf().set_size_inches(15, 15)\n",
        "plt.show()"
      ],
      "execution_count": 17,
      "outputs": [
        {
          "output_type": "stream",
          "text": [
            "running with  sgd\n",
            "(Iteration 1 / 200) loss: 2.559978\n",
            "(Epoch 0 / 5) train acc: 0.082000; val_acc: 0.104000\n",
            "(Iteration 11 / 200) loss: 2.728610\n",
            "(Iteration 21 / 200) loss: 2.542408\n",
            "(Iteration 31 / 200) loss: 2.555429\n",
            "(Epoch 1 / 5) train acc: 0.094000; val_acc: 0.102000\n",
            "(Iteration 41 / 200) loss: 2.519404\n",
            "(Iteration 51 / 200) loss: 2.665145\n",
            "(Iteration 61 / 200) loss: 2.510957\n",
            "(Iteration 71 / 200) loss: 2.610063\n",
            "(Epoch 2 / 5) train acc: 0.092000; val_acc: 0.103000\n",
            "(Iteration 81 / 200) loss: 2.508118\n",
            "(Iteration 91 / 200) loss: 2.435882\n",
            "(Iteration 101 / 200) loss: 2.379561\n",
            "(Iteration 111 / 200) loss: 2.441362\n",
            "(Epoch 3 / 5) train acc: 0.109000; val_acc: 0.105000\n",
            "(Iteration 121 / 200) loss: 2.518373\n",
            "(Iteration 131 / 200) loss: 2.604499\n",
            "(Iteration 141 / 200) loss: 2.503923\n",
            "(Iteration 151 / 200) loss: 2.467853\n",
            "(Epoch 4 / 5) train acc: 0.093000; val_acc: 0.110000\n",
            "(Iteration 161 / 200) loss: 2.449939\n",
            "(Iteration 171 / 200) loss: 2.436907\n",
            "(Iteration 181 / 200) loss: 2.364604\n",
            "(Iteration 191 / 200) loss: 2.381952\n",
            "(Epoch 5 / 5) train acc: 0.082000; val_acc: 0.113000\n",
            "\n",
            "running with  sgd_momentum\n",
            "(Iteration 1 / 200) loss: 3.153777\n",
            "(Epoch 0 / 5) train acc: 0.106000; val_acc: 0.102000\n",
            "(Iteration 11 / 200) loss: 2.867114\n",
            "(Iteration 21 / 200) loss: 2.527338\n",
            "(Iteration 31 / 200) loss: 2.468105\n",
            "(Epoch 1 / 5) train acc: 0.136000; val_acc: 0.112000\n",
            "(Iteration 41 / 200) loss: 2.307512\n",
            "(Iteration 51 / 200) loss: 2.390195\n",
            "(Iteration 61 / 200) loss: 2.312438\n",
            "(Iteration 71 / 200) loss: 2.357881\n",
            "(Epoch 2 / 5) train acc: 0.160000; val_acc: 0.127000\n",
            "(Iteration 81 / 200) loss: 2.369258\n",
            "(Iteration 91 / 200) loss: 2.305600\n",
            "(Iteration 101 / 200) loss: 2.223519\n",
            "(Iteration 111 / 200) loss: 2.287296\n",
            "(Epoch 3 / 5) train acc: 0.175000; val_acc: 0.154000\n",
            "(Iteration 121 / 200) loss: 2.269937\n",
            "(Iteration 131 / 200) loss: 2.317510\n",
            "(Iteration 141 / 200) loss: 2.213369\n",
            "(Iteration 151 / 200) loss: 2.258191\n",
            "(Epoch 4 / 5) train acc: 0.165000; val_acc: 0.157000\n",
            "(Iteration 161 / 200) loss: 2.251860\n",
            "(Iteration 171 / 200) loss: 2.212934\n",
            "(Iteration 181 / 200) loss: 2.209742\n",
            "(Iteration 191 / 200) loss: 2.190372\n",
            "(Epoch 5 / 5) train acc: 0.184000; val_acc: 0.167000\n",
            "\n"
          ],
          "name": "stdout"
        },
        {
          "output_type": "stream",
          "text": [
            "/usr/local/lib/python3.6/dist-packages/ipykernel_launcher.py:39: MatplotlibDeprecationWarning: Adding an axes using the same arguments as a previous axes currently reuses the earlier instance.  In a future version, a new instance will always be created and returned.  Meanwhile, this warning can be suppressed, and the future behavior ensured, by passing a unique label to each axes instance.\n",
            "/usr/local/lib/python3.6/dist-packages/ipykernel_launcher.py:42: MatplotlibDeprecationWarning: Adding an axes using the same arguments as a previous axes currently reuses the earlier instance.  In a future version, a new instance will always be created and returned.  Meanwhile, this warning can be suppressed, and the future behavior ensured, by passing a unique label to each axes instance.\n",
            "/usr/local/lib/python3.6/dist-packages/ipykernel_launcher.py:45: MatplotlibDeprecationWarning: Adding an axes using the same arguments as a previous axes currently reuses the earlier instance.  In a future version, a new instance will always be created and returned.  Meanwhile, this warning can be suppressed, and the future behavior ensured, by passing a unique label to each axes instance.\n",
            "/usr/local/lib/python3.6/dist-packages/ipykernel_launcher.py:49: MatplotlibDeprecationWarning: Adding an axes using the same arguments as a previous axes currently reuses the earlier instance.  In a future version, a new instance will always be created and returned.  Meanwhile, this warning can be suppressed, and the future behavior ensured, by passing a unique label to each axes instance.\n"
          ],
          "name": "stderr"
        },
        {
          "output_type": "display_data",
          "data": {
            "image/png": "[encoded data removed]",
            "text/plain": [
              "<Figure size 1080x1080 with 3 Axes>"
            ]
          },
          "metadata": {
            "tags": [],
            "needs_background": "light"
          }
        }
      ]
    },
    {
      "cell_type": "markdown",
      "metadata": {
        "id": "h5NHjWozBZmV",
        "colab_type": "text"
      },
      "source": [
        "# RMSProp and Adam\n",
        "RMSProp [1] and Adam [2] are update rules that set per-parameter learning rates by using a running average of the second moments of gradients.\n",
        "\n",
        "In the file `cs231n/optim.py`, implement the RMSProp update rule in the `rmsprop` function and implement the Adam update rule in the `adam` function, and check your implementations using the tests below.\n",
        "\n",
        "**NOTE:** Please implement the _complete_ Adam update rule (with the bias correction mechanism), not the first simplified version mentioned in the course notes. \n",
        "\n",
        "[1] Tijmen Tieleman and Geoffrey Hinton. \"Lecture 6.5-rmsprop: Divide the gradient by a running average of its recent magnitude.\" COURSERA: Neural Networks for Machine Learning 4 (2012).\n",
        "\n",
        "[2] Diederik Kingma and Jimmy Ba, \"Adam: A Method for Stochastic Optimization\", ICLR 2015."
      ]
    },
    {
      "cell_type": "code",
      "metadata": {
        "id": "_P53vou-BZmW",
        "colab_type": "code",
        "colab": {
          "base_uri": "https://localhost:8080/",
          "height": 51
        },
        "outputId": "b8b34695-bb42-4fa6-e888-cc863bcd1a08"
      },
      "source": [
        "# Test RMSProp implementation\n",
        "from cs231n.optim import rmsprop\n",
        "\n",
        "N, D = 4, 5\n",
        "w = np.linspace(-0.4, 0.6, num=N*D).reshape(N, D)\n",
        "dw = np.linspace(-0.6, 0.4, num=N*D).reshape(N, D)\n",
        "cache = np.linspace(0.6, 0.9, num=N*D).reshape(N, D)\n",
        "\n",
        "config = {'learning_rate': 1e-2, 'cache': cache}\n",
        "next_w, _ = rmsprop(w, dw, config=config)\n",
        "\n",
        "expected_next_w = np.asarray([\n",
        "  [-0.39223849, -0.34037513, -0.28849239, -0.23659121, -0.18467247],\n",
        "  [-0.132737,   -0.08078555, -0.02881884,  0.02316247,  0.07515774],\n",
        "  [ 0.12716641,  0.17918792,  0.23122175,  0.28326742,  0.33532447],\n",
        "  [ 0.38739248,  0.43947102,  0.49155973,  0.54365823,  0.59576619]])\n",
        "expected_cache = np.asarray([\n",
        "  [ 0.5976,      0.6126277,   0.6277108,   0.64284931,  0.65804321],\n",
        "  [ 0.67329252,  0.68859723,  0.70395734,  0.71937285,  0.73484377],\n",
        "  [ 0.75037008,  0.7659518,   0.78158892,  0.79728144,  0.81302936],\n",
        "  [ 0.82883269,  0.84469141,  0.86060554,  0.87657507,  0.8926    ]])\n",
        "\n",
        "# You should see relative errors around e-7 or less\n",
        "print('next_w error: ', rel_error(expected_next_w, next_w))\n",
        "print('cache error: ', rel_error(expected_cache, config['cache']))"
      ],
      "execution_count": 18,
      "outputs": [
        {
          "output_type": "stream",
          "text": [
            "next_w error:  9.524687511038133e-08\n",
            "cache error:  2.6477955807156126e-09\n"
          ],
          "name": "stdout"
        }
      ]
    },
    {
      "cell_type": "code",
      "metadata": {
        "id": "zKfpCJjCBZmZ",
        "colab_type": "code",
        "colab": {
          "base_uri": "https://localhost:8080/",
          "height": 68
        },
        "outputId": "28f88361-0e7b-482c-a663-fc2ff75f39e5"
      },
      "source": [
        "# Test Adam implementation\n",
        "from cs231n.optim import adam\n",
        "\n",
        "N, D = 4, 5\n",
        "w = np.linspace(-0.4, 0.6, num=N*D).reshape(N, D)\n",
        "dw = np.linspace(-0.6, 0.4, num=N*D).reshape(N, D)\n",
        "m = np.linspace(0.6, 0.9, num=N*D).reshape(N, D)\n",
        "v = np.linspace(0.7, 0.5, num=N*D).reshape(N, D)\n",
        "\n",
        "config = {'learning_rate': 1e-2, 'm': m, 'v': v, 't': 5}\n",
        "next_w, _ = adam(w, dw, config=config)\n",
        "\n",
        "expected_next_w = np.asarray([\n",
        "  [-0.40094747, -0.34836187, -0.29577703, -0.24319299, -0.19060977],\n",
        "  [-0.1380274,  -0.08544591, -0.03286534,  0.01971428,  0.0722929],\n",
        "  [ 0.1248705,   0.17744702,  0.23002243,  0.28259667,  0.33516969],\n",
        "  [ 0.38774145,  0.44031188,  0.49288093,  0.54544852,  0.59801459]])\n",
        "expected_v = np.asarray([\n",
        "  [ 0.69966,     0.68908382,  0.67851319,  0.66794809,  0.65738853,],\n",
        "  [ 0.64683452,  0.63628604,  0.6257431,   0.61520571,  0.60467385,],\n",
        "  [ 0.59414753,  0.58362676,  0.57311152,  0.56260183,  0.55209767,],\n",
        "  [ 0.54159906,  0.53110598,  0.52061845,  0.51013645,  0.49966,   ]])\n",
        "expected_m = np.asarray([\n",
        "  [ 0.48,        0.49947368,  0.51894737,  0.53842105,  0.55789474],\n",
        "  [ 0.57736842,  0.59684211,  0.61631579,  0.63578947,  0.65526316],\n",
        "  [ 0.67473684,  0.69421053,  0.71368421,  0.73315789,  0.75263158],\n",
        "  [ 0.77210526,  0.79157895,  0.81105263,  0.83052632,  0.85      ]])\n",
        "\n",
        "# You should see relative errors around e-7 or less\n",
        "print('next_w error: ', rel_error(expected_next_w, next_w))\n",
        "print('v error: ', rel_error(expected_v, config['v']))\n",
        "print('m error: ', rel_error(expected_m, config['m']))"
      ],
      "execution_count": 19,
      "outputs": [
        {
          "output_type": "stream",
          "text": [
            "next_w error:  1.1395691798535431e-07\n",
            "v error:  4.208314038113071e-09\n",
            "m error:  4.214963193114416e-09\n"
          ],
          "name": "stdout"
        }
      ]
    },
    {
      "cell_type": "markdown",
      "metadata": {
        "id": "dKgcEye0BZme",
        "colab_type": "text"
      },
      "source": [
        "Once you have debugged your RMSProp and Adam implementations, run the following to train a pair of deep networks using these new update rules:"
      ]
    },
    {
      "cell_type": "code",
      "metadata": {
        "id": "C5u__P4uBZmf",
        "colab_type": "code",
        "colab": {
          "base_uri": "https://localhost:8080/",
          "height": 1000
        },
        "outputId": "4f64e01e-10c0-48c4-f50b-63e4c014f96e"
      },
      "source": [
        "learning_rates = {'rmsprop': 1e-4, 'adam': 1e-3}\n",
        "for update_rule in ['adam', 'rmsprop']:\n",
        "  print('running with ', update_rule)\n",
        "  model = FullyConnectedNet([100, 100, 100, 100, 100], weight_scale=5e-2)\n",
        "\n",
        "  solver = Solver(model, small_data,\n",
        "                  num_epochs=5, batch_size=100,\n",
        "                  update_rule=update_rule,\n",
        "                  optim_config={\n",
        "                    'learning_rate': learning_rates[update_rule]\n",
        "                  },\n",
        "                  verbose=True)\n",
        "  solvers[update_rule] = solver\n",
        "  solver.train()\n",
        "  print()\n",
        "\n",
        "plt.subplot(3, 1, 1)\n",
        "plt.title('Training loss')\n",
        "plt.xlabel('Iteration')\n",
        "\n",
        "plt.subplot(3, 1, 2)\n",
        "plt.title('Training accuracy')\n",
        "plt.xlabel('Epoch')\n",
        "\n",
        "plt.subplot(3, 1, 3)\n",
        "plt.title('Validation accuracy')\n",
        "plt.xlabel('Epoch')\n",
        "\n",
        "for update_rule, solver in list(solvers.items()):\n",
        "  plt.subplot(3, 1, 1)\n",
        "  plt.plot(solver.loss_history, 'o', label=update_rule)\n",
        "  \n",
        "  plt.subplot(3, 1, 2)\n",
        "  plt.plot(solver.train_acc_history, '-o', label=update_rule)\n",
        "\n",
        "  plt.subplot(3, 1, 3)\n",
        "  plt.plot(solver.val_acc_history, '-o', label=update_rule)\n",
        "  \n",
        "for i in [1, 2, 3]:\n",
        "  plt.subplot(3, 1, i)\n",
        "  plt.legend(loc='upper center', ncol=4)\n",
        "plt.gcf().set_size_inches(15, 15)\n",
        "plt.show()"
      ],
      "execution_count": 20,
      "outputs": [
        {
          "output_type": "stream",
          "text": [
            "running with  adam\n",
            "(Iteration 1 / 200) loss: 3.476928\n",
            "(Epoch 0 / 5) train acc: 0.126000; val_acc: 0.110000\n",
            "(Iteration 11 / 200) loss: 2.024522\n",
            "(Iteration 21 / 200) loss: 2.166989\n",
            "(Iteration 31 / 200) loss: 1.798762\n",
            "(Epoch 1 / 5) train acc: 0.387000; val_acc: 0.333000\n",
            "(Iteration 41 / 200) loss: 1.775782\n",
            "(Iteration 51 / 200) loss: 1.725583\n",
            "(Iteration 61 / 200) loss: 2.046821\n",
            "(Iteration 71 / 200) loss: 1.559859\n",
            "(Epoch 2 / 5) train acc: 0.438000; val_acc: 0.344000\n",
            "(Iteration 81 / 200) loss: 1.697578\n",
            "(Iteration 91 / 200) loss: 1.385170\n",
            "(Iteration 101 / 200) loss: 1.367326\n",
            "(Iteration 111 / 200) loss: 1.538025\n",
            "(Epoch 3 / 5) train acc: 0.459000; val_acc: 0.366000\n",
            "(Iteration 121 / 200) loss: 1.237642\n",
            "(Iteration 131 / 200) loss: 1.357343\n",
            "(Iteration 141 / 200) loss: 1.286499\n",
            "(Iteration 151 / 200) loss: 1.366245\n",
            "(Epoch 4 / 5) train acc: 0.552000; val_acc: 0.379000\n",
            "(Iteration 161 / 200) loss: 1.239741\n",
            "(Iteration 171 / 200) loss: 1.459976\n",
            "(Iteration 181 / 200) loss: 1.144254\n",
            "(Iteration 191 / 200) loss: 1.204888\n",
            "(Epoch 5 / 5) train acc: 0.596000; val_acc: 0.382000\n",
            "\n",
            "running with  rmsprop\n",
            "(Iteration 1 / 200) loss: 2.589166\n",
            "(Epoch 0 / 5) train acc: 0.119000; val_acc: 0.146000\n",
            "(Iteration 11 / 200) loss: 2.015829\n",
            "(Iteration 21 / 200) loss: 1.887947\n",
            "(Iteration 31 / 200) loss: 1.739761\n",
            "(Epoch 1 / 5) train acc: 0.379000; val_acc: 0.313000\n",
            "(Iteration 41 / 200) loss: 1.898887\n",
            "(Iteration 51 / 200) loss: 1.682717\n",
            "(Iteration 61 / 200) loss: 1.462340\n",
            "(Iteration 71 / 200) loss: 1.607908\n",
            "(Epoch 2 / 5) train acc: 0.433000; val_acc: 0.344000\n",
            "(Iteration 81 / 200) loss: 1.471598\n",
            "(Iteration 91 / 200) loss: 1.596258\n",
            "(Iteration 101 / 200) loss: 1.499032\n",
            "(Iteration 111 / 200) loss: 1.590125\n",
            "(Epoch 3 / 5) train acc: 0.476000; val_acc: 0.355000\n",
            "(Iteration 121 / 200) loss: 1.479825\n",
            "(Iteration 131 / 200) loss: 1.525245\n",
            "(Iteration 141 / 200) loss: 1.544767\n",
            "(Iteration 151 / 200) loss: 1.683486\n",
            "(Epoch 4 / 5) train acc: 0.513000; val_acc: 0.388000\n",
            "(Iteration 161 / 200) loss: 1.627016\n",
            "(Iteration 171 / 200) loss: 1.418109\n",
            "(Iteration 181 / 200) loss: 1.489381\n",
            "(Iteration 191 / 200) loss: 1.396379\n",
            "(Epoch 5 / 5) train acc: 0.552000; val_acc: 0.384000\n",
            "\n"
          ],
          "name": "stdout"
        },
        {
          "output_type": "stream",
          "text": [
            "/usr/local/lib/python3.6/dist-packages/ipykernel_launcher.py:30: MatplotlibDeprecationWarning: Adding an axes using the same arguments as a previous axes currently reuses the earlier instance.  In a future version, a new instance will always be created and returned.  Meanwhile, this warning can be suppressed, and the future behavior ensured, by passing a unique label to each axes instance.\n",
            "/usr/local/lib/python3.6/dist-packages/ipykernel_launcher.py:33: MatplotlibDeprecationWarning: Adding an axes using the same arguments as a previous axes currently reuses the earlier instance.  In a future version, a new instance will always be created and returned.  Meanwhile, this warning can be suppressed, and the future behavior ensured, by passing a unique label to each axes instance.\n",
            "/usr/local/lib/python3.6/dist-packages/ipykernel_launcher.py:36: MatplotlibDeprecationWarning: Adding an axes using the same arguments as a previous axes currently reuses the earlier instance.  In a future version, a new instance will always be created and returned.  Meanwhile, this warning can be suppressed, and the future behavior ensured, by passing a unique label to each axes instance.\n",
            "/usr/local/lib/python3.6/dist-packages/ipykernel_launcher.py:40: MatplotlibDeprecationWarning: Adding an axes using the same arguments as a previous axes currently reuses the earlier instance.  In a future version, a new instance will always be created and returned.  Meanwhile, this warning can be suppressed, and the future behavior ensured, by passing a unique label to each axes instance.\n"
          ],
          "name": "stderr"
        },
        {
          "output_type": "display_data",
          "data": {
            "image/png": "[encoded data removed]",
            "text/plain": [
              "<Figure size 1080x1080 with 3 Axes>"
            ]
          },
          "metadata": {
            "tags": [],
            "needs_background": "light"
          }
        }
      ]
    },
    {
      "cell_type": "markdown",
      "metadata": {
        "tags": [
          "pdf-inline"
        ],
        "id": "6wnKIAwZBZmj",
        "colab_type": "text"
      },
      "source": [
        "## Inline Question 3:\n",
        "\n",
        "AdaGrad, like Adam, is a per-parameter optimization method that uses the following update rule:\n",
        "\n",
        "```\n",
        "cache += dw**2\n",
        "w += - learning_rate * dw / (np.sqrt(cache) + eps)\n",
        "```\n",
        "\n",
        "John notices that when he was training a network with AdaGrad that the updates became very small, and that his network was learning slowly. Using your knowledge of the AdaGrad update rule, why do you think the updates would become very small? Would Adam have the same issue?\n",
        "\n",
        "\n",
        "## Answer: \n",
        "Because of growing value of cache with each iteration.\n"
      ]
    },
    {
      "cell_type": "markdown",
      "metadata": {
        "id": "bacepUs3BZmk",
        "colab_type": "text"
      },
      "source": [
        "# Train a good model!\n",
        "Train the best fully-connected model that you can on CIFAR-10, storing your best model in the `best_model` variable. We require you to get at least 50% accuracy on the validation set using a fully-connected net.\n",
        "\n",
        "If you are careful it should be possible to get accuracies above 55%, but we don't require it for this part and won't assign extra credit for doing so. Later in the assignment we will ask you to train the best convolutional network that you can on CIFAR-10, and we would prefer that you spend your effort working on convolutional nets rather than fully-connected nets.\n",
        "\n",
        "You might find it useful to complete the `BatchNormalization.ipynb` and `Dropout.ipynb` notebooks before completing this part, since those techniques can help you train powerful models."
      ]
    },
    {
      "cell_type": "code",
      "metadata": {
        "scrolled": false,
        "id": "hnWTmk38BZml",
        "colab_type": "code",
        "colab": {
          "base_uri": "https://localhost:8080/",
          "height": 102
        },
        "outputId": "76b2bd29-5e01-45f4-d4d7-033baecd3ca8"
      },
      "source": [
        "best_model = None\n",
        "best_acc = -1\n",
        "################################################################################\n",
        "# TODO: Train the best FullyConnectedNet that you can on CIFAR-10. You might   #\n",
        "# find batch/layer normalization and dropout useful. Store your best model in  #\n",
        "# the best_model variable.                                                     #\n",
        "################################################################################\n",
        "# *****START OF YOUR CODE (DO NOT DELETE/MODIFY THIS LINE)*****\n",
        "\n",
        "num_train = 20000\n",
        "small_data = {\n",
        "  'X_train': data['X_train'][:num_train],\n",
        "  'y_train': data['y_train'][:num_train],\n",
        "  'X_val': data['X_val'],\n",
        "  'y_val': data['y_val'],\n",
        "}\n",
        "\n",
        "learning_rates = np.logspace(-3.8, -2.8, 8)\n",
        "weight_scales = np.logspace(-2, -1.6, 4)\n",
        "\n",
        "\n",
        "\n",
        "for lr in learning_rates:\n",
        "    for ws in weight_scales:\n",
        "\n",
        "        model = FullyConnectedNet([85, 85, 80, 80], weight_scale=ws,\n",
        "                                  dtype=np.float64)\n",
        "\n",
        "        solver = Solver(model, small_data,\n",
        "                        num_epochs=2, batch_size=200,\n",
        "                        update_rule='adam',\n",
        "                        optim_config={\n",
        "                        'learning_rate': lr,\n",
        "                        },\n",
        "                        verbose=False)\n",
        "        solver.train()\n",
        "        if solver.best_val_acc > best_acc:\n",
        "            best_model = model\n",
        "            best_acc = solver.best_val_acc\n",
        "            best_lr, best_ws = (lr, ws)\n",
        "            print(\"best valid acc yet: %f   lr: %e ws: %e\" % (best_acc, lr, ws))\n",
        "\n",
        "# *****END OF YOUR CODE (DO NOT DELETE/MODIFY THIS LINE)*****\n",
        "################################################################################\n",
        "#                              END OF YOUR CODE                                #\n",
        "################################################################################"
      ],
      "execution_count": 21,
      "outputs": [
        {
          "output_type": "stream",
          "text": [
            "best valid acc yet: 0.329000   lr: 1.584893e-04 ws: 1.000000e-02\n",
            "best valid acc yet: 0.356000   lr: 1.584893e-04 ws: 1.359356e-02\n",
            "best valid acc yet: 0.423000   lr: 1.584893e-04 ws: 1.847850e-02\n",
            "best valid acc yet: 0.446000   lr: 2.202202e-04 ws: 2.511886e-02\n",
            "best valid acc yet: 0.452000   lr: 8.208914e-04 ws: 2.511886e-02\n"
          ],
          "name": "stdout"
        }
      ]
    },
    {
      "cell_type": "code",
      "metadata": {
        "id": "EmP-2fKcq0SO",
        "colab_type": "code",
        "colab": {
          "base_uri": "https://localhost:8080/",
          "height": 1000
        },
        "outputId": "1b47a173-c210-4932-8776-f4570272dddf"
      },
      "source": [
        "print('Engaged with Training Data. Training Using Best Hyperparameters...')\n",
        "\n",
        "best_lr = 8.208914e-04\n",
        "best_ws = 1.847850e-02\n",
        "\n",
        "best_model = FullyConnectedNet([85, 85, 80, 80], weight_scale=best_ws,\n",
        "                                  dtype=np.float64)\n",
        "\n",
        "solver = Solver(best_model, data,\n",
        "                num_epochs=5, batch_size=200,\n",
        "                update_rule='adam',\n",
        "                optim_config={\n",
        "                'learning_rate': best_lr,\n",
        "                },\n",
        "                verbose=True)\n",
        "solver.train()\n",
        "print(\"BEST VALID ACC: %f\" % solver.best_val_acc)"
      ],
      "execution_count": 23,
      "outputs": [
        {
          "output_type": "stream",
          "text": [
            "Engaged with Training Data. Training Using Best Hyperparameters...\n",
            "(Iteration 1 / 1225) loss: 2.302458\n",
            "(Epoch 0 / 5) train acc: 0.122000; val_acc: 0.105000\n",
            "(Iteration 11 / 1225) loss: 2.100497\n",
            "(Iteration 21 / 1225) loss: 2.092699\n",
            "(Iteration 31 / 1225) loss: 1.885913\n",
            "(Iteration 41 / 1225) loss: 1.923831\n",
            "(Iteration 51 / 1225) loss: 1.785769\n",
            "(Iteration 61 / 1225) loss: 1.804665\n",
            "(Iteration 71 / 1225) loss: 1.774725\n",
            "(Iteration 81 / 1225) loss: 1.715739\n",
            "(Iteration 91 / 1225) loss: 1.681800\n",
            "(Iteration 101 / 1225) loss: 1.645149\n",
            "(Iteration 111 / 1225) loss: 1.654194\n",
            "(Iteration 121 / 1225) loss: 1.704706\n",
            "(Iteration 131 / 1225) loss: 1.633588\n",
            "(Iteration 141 / 1225) loss: 1.589922\n",
            "(Iteration 151 / 1225) loss: 1.676992\n",
            "(Iteration 161 / 1225) loss: 1.775678\n",
            "(Iteration 171 / 1225) loss: 1.818876\n",
            "(Iteration 181 / 1225) loss: 1.645387\n",
            "(Iteration 191 / 1225) loss: 1.520580\n",
            "(Iteration 201 / 1225) loss: 1.667674\n",
            "(Iteration 211 / 1225) loss: 1.630798\n",
            "(Iteration 221 / 1225) loss: 1.697101\n",
            "(Iteration 231 / 1225) loss: 1.659381\n",
            "(Iteration 241 / 1225) loss: 1.501737\n",
            "(Epoch 1 / 5) train acc: 0.455000; val_acc: 0.431000\n",
            "(Iteration 251 / 1225) loss: 1.577034\n",
            "(Iteration 261 / 1225) loss: 1.557236\n",
            "(Iteration 271 / 1225) loss: 1.761665\n",
            "(Iteration 281 / 1225) loss: 1.509804\n",
            "(Iteration 291 / 1225) loss: 1.538182\n",
            "(Iteration 301 / 1225) loss: 1.403244\n",
            "(Iteration 311 / 1225) loss: 1.550989\n",
            "(Iteration 321 / 1225) loss: 1.549157\n",
            "(Iteration 331 / 1225) loss: 1.656202\n",
            "(Iteration 341 / 1225) loss: 1.550048\n",
            "(Iteration 351 / 1225) loss: 1.546560\n",
            "(Iteration 361 / 1225) loss: 1.596439\n",
            "(Iteration 371 / 1225) loss: 1.416341\n",
            "(Iteration 381 / 1225) loss: 1.514708\n",
            "(Iteration 391 / 1225) loss: 1.527724\n",
            "(Iteration 401 / 1225) loss: 1.476823\n",
            "(Iteration 411 / 1225) loss: 1.486233\n",
            "(Iteration 421 / 1225) loss: 1.475948\n",
            "(Iteration 431 / 1225) loss: 1.462395\n",
            "(Iteration 441 / 1225) loss: 1.435248\n",
            "(Iteration 451 / 1225) loss: 1.474485\n",
            "(Iteration 461 / 1225) loss: 1.534042\n",
            "(Iteration 471 / 1225) loss: 1.377468\n",
            "(Iteration 481 / 1225) loss: 1.457951\n",
            "(Epoch 2 / 5) train acc: 0.474000; val_acc: 0.471000\n",
            "(Iteration 491 / 1225) loss: 1.432106\n",
            "(Iteration 501 / 1225) loss: 1.461793\n",
            "(Iteration 511 / 1225) loss: 1.501309\n",
            "(Iteration 521 / 1225) loss: 1.438849\n",
            "(Iteration 531 / 1225) loss: 1.459900\n",
            "(Iteration 541 / 1225) loss: 1.381862\n",
            "(Iteration 551 / 1225) loss: 1.444686\n",
            "(Iteration 561 / 1225) loss: 1.450217\n",
            "(Iteration 571 / 1225) loss: 1.396938\n",
            "(Iteration 581 / 1225) loss: 1.398637\n",
            "(Iteration 591 / 1225) loss: 1.392258\n",
            "(Iteration 601 / 1225) loss: 1.292124\n",
            "(Iteration 611 / 1225) loss: 1.210074\n",
            "(Iteration 621 / 1225) loss: 1.252860\n",
            "(Iteration 631 / 1225) loss: 1.447592\n",
            "(Iteration 641 / 1225) loss: 1.303703\n",
            "(Iteration 651 / 1225) loss: 1.376774\n",
            "(Iteration 661 / 1225) loss: 1.211287\n",
            "(Iteration 671 / 1225) loss: 1.286943\n",
            "(Iteration 681 / 1225) loss: 1.380444\n",
            "(Iteration 691 / 1225) loss: 1.281768\n",
            "(Iteration 701 / 1225) loss: 1.371362\n",
            "(Iteration 711 / 1225) loss: 1.293504\n",
            "(Iteration 721 / 1225) loss: 1.293789\n",
            "(Iteration 731 / 1225) loss: 1.347025\n",
            "(Epoch 3 / 5) train acc: 0.506000; val_acc: 0.510000\n",
            "(Iteration 741 / 1225) loss: 1.253571\n",
            "(Iteration 751 / 1225) loss: 1.530740\n",
            "(Iteration 761 / 1225) loss: 1.464645\n",
            "(Iteration 771 / 1225) loss: 1.353675\n",
            "(Iteration 781 / 1225) loss: 1.257732\n",
            "(Iteration 791 / 1225) loss: 1.244529\n",
            "(Iteration 801 / 1225) loss: 1.310866\n",
            "(Iteration 811 / 1225) loss: 1.241846\n",
            "(Iteration 821 / 1225) loss: 1.197702\n",
            "(Iteration 831 / 1225) loss: 1.272356\n",
            "(Iteration 841 / 1225) loss: 1.343996\n",
            "(Iteration 851 / 1225) loss: 1.331870\n",
            "(Iteration 861 / 1225) loss: 1.364116\n",
            "(Iteration 871 / 1225) loss: 1.322170\n",
            "(Iteration 881 / 1225) loss: 1.304415\n",
            "(Iteration 891 / 1225) loss: 1.314255\n",
            "(Iteration 901 / 1225) loss: 1.356449\n",
            "(Iteration 911 / 1225) loss: 1.374124\n",
            "(Iteration 921 / 1225) loss: 1.432369\n",
            "(Iteration 931 / 1225) loss: 1.299583\n",
            "(Iteration 941 / 1225) loss: 1.307342\n",
            "(Iteration 951 / 1225) loss: 1.347382\n",
            "(Iteration 961 / 1225) loss: 1.262923\n",
            "(Iteration 971 / 1225) loss: 1.331298\n",
            "(Epoch 4 / 5) train acc: 0.550000; val_acc: 0.520000\n",
            "(Iteration 981 / 1225) loss: 1.298847\n",
            "(Iteration 991 / 1225) loss: 1.253488\n",
            "(Iteration 1001 / 1225) loss: 1.304060\n",
            "(Iteration 1011 / 1225) loss: 1.239561\n",
            "(Iteration 1021 / 1225) loss: 1.429878\n",
            "(Iteration 1031 / 1225) loss: 1.361283\n",
            "(Iteration 1041 / 1225) loss: 1.230191\n",
            "(Iteration 1051 / 1225) loss: 1.130928\n",
            "(Iteration 1061 / 1225) loss: 1.215360\n",
            "(Iteration 1071 / 1225) loss: 1.356102\n",
            "(Iteration 1081 / 1225) loss: 1.324550\n",
            "(Iteration 1091 / 1225) loss: 1.290034\n",
            "(Iteration 1101 / 1225) loss: 1.275125\n",
            "(Iteration 1111 / 1225) loss: 1.118701\n",
            "(Iteration 1121 / 1225) loss: 1.130263\n",
            "(Iteration 1131 / 1225) loss: 1.263200\n",
            "(Iteration 1141 / 1225) loss: 1.300997\n",
            "(Iteration 1151 / 1225) loss: 1.306677\n",
            "(Iteration 1161 / 1225) loss: 1.190574\n",
            "(Iteration 1171 / 1225) loss: 1.216311\n",
            "(Iteration 1181 / 1225) loss: 1.194837\n",
            "(Iteration 1191 / 1225) loss: 1.213466\n",
            "(Iteration 1201 / 1225) loss: 1.332938\n",
            "(Iteration 1211 / 1225) loss: 1.348535\n",
            "(Iteration 1221 / 1225) loss: 1.236844\n",
            "(Epoch 5 / 5) train acc: 0.532000; val_acc: 0.521000\n",
            "BEST VALID ACC: 0.521000\n"
          ],
          "name": "stdout"
        }
      ]
    },
    {
      "cell_type": "markdown",
      "metadata": {
        "id": "hoduj9YVBZmr",
        "colab_type": "text"
      },
      "source": [
        "# Test your model!\n",
        "Run your best model on the validation and test sets. You should achieve above 50% accuracy on the validation set."
      ]
    },
    {
      "cell_type": "code",
      "metadata": {
        "id": "MR71I3L8BZms",
        "colab_type": "code",
        "colab": {
          "base_uri": "https://localhost:8080/",
          "height": 51
        },
        "outputId": "f820aefe-fa48-42ae-fa19-43de0ff0ea2c"
      },
      "source": [
        "y_test_pred = np.argmax(best_model.loss(data['X_test']), axis=1)\n",
        "y_val_pred = np.argmax(best_model.loss(data['X_val']), axis=1)\n",
        "print('Validation set accuracy: ', (y_val_pred == data['y_val']).mean())\n",
        "print('Test set accuracy: ', (y_test_pred == data['y_test']).mean())"
      ],
      "execution_count": 24,
      "outputs": [
        {
          "output_type": "stream",
          "text": [
            "Validation set accuracy:  0.521\n",
            "Test set accuracy:  0.523\n"
          ],
          "name": "stdout"
        }
      ]
    }
  ]
}